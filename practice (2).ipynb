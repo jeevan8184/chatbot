{
  "nbformat": 4,
  "nbformat_minor": 0,
  "metadata": {
    "colab": {
      "provenance": [],
      "gpuType": "T4"
    },
    "kernelspec": {
      "name": "python3",
      "display_name": "Python 3"
    },
    "language_info": {
      "name": "python"
    },
    "accelerator": "GPU"
  },
  "cells": [
    {
      "cell_type": "code",
      "execution_count": null,
      "metadata": {
        "colab": {
          "base_uri": "https://localhost:8080/"
        },
        "id": "LBYpSEKC1xbW",
        "outputId": "c7d86419-0ac2-4bfb-c01a-f96bfe28970b"
      },
      "outputs": [
        {
          "output_type": "stream",
          "name": "stdout",
          "text": [
            "Hello World\n"
          ]
        }
      ],
      "source": [
        "print(\"Hello World\")"
      ]
    },
    {
      "cell_type": "code",
      "source": [
        "def greet_user():\n",
        "    print(\"👋 Hello! I'm QuizBot.\")\n",
        "    name = input(\"What's your name? \")\n",
        "    print(f\"\\nNice to meet you, {name}! Let's start the quiz. 🚀\\n\")\n",
        "    return name\n",
        "\n",
        "def ask_question(question, options, correct_answer):\n",
        "    print(\"🧠 \" + question)\n",
        "    for key, option in options.items():\n",
        "        print(f\"{key}: {option}\")\n",
        "\n",
        "    while True:\n",
        "        user_answer = input(\"Your answer (A/B/C/D): \").strip().upper()\n",
        "        if user_answer in options:\n",
        "            break\n",
        "        else:\n",
        "            print(\"Please enter a valid option (A, B, C, or D).\")\n",
        "\n",
        "    is_correct = user_answer == correct_answer\n",
        "    print(\"✅ Correct!\\n\" if is_correct else f\"❌ Wrong. The correct answer was {correct_answer}: {options[correct_answer]}\\n\")\n",
        "    return is_correct\n",
        "\n",
        "def run_quiz():\n",
        "    questions = [\n",
        "        {\n",
        "            \"question\": \"What is the capital of France?\",\n",
        "            \"options\": {\"A\": \"Paris\", \"B\": \"Berlin\", \"C\": \"Madrid\", \"D\": \"Rome\"},\n",
        "            \"answer\": \"A\"\n",
        "        },\n",
        "        {\n",
        "            \"question\": \"Which language is used to write AI models with Hugging Face Transformers?\",\n",
        "            \"options\": {\"A\": \"Java\", \"B\": \"Python\", \"C\": \"C++\", \"D\": \"JavaScript\"},\n",
        "            \"answer\": \"B\"\n",
        "        },\n",
        "        {\n",
        "            \"question\": \"What does CPU stand for?\",\n",
        "            \"options\": {\"A\": \"Central Process Unit\", \"B\": \"Central Processing Unit\", \"C\": \"Control Processing Unit\", \"D\": \"Computer Primary Unit\"},\n",
        "            \"answer\": \"B\"\n",
        "        },\n",
        "    ]\n",
        "\n",
        "    name = greet_user()\n",
        "    score = 0\n",
        "\n",
        "    for q in questions:\n",
        "        if ask_question(q[\"question\"], q[\"options\"], q[\"answer\"]):\n",
        "            score += 1\n",
        "\n",
        "    print(f\"🎉 Quiz Finished, {name}!\")\n",
        "    print(f\"Your Score: {score} / {len(questions)}\")\n",
        "\n",
        "    if score == len(questions):\n",
        "        print(\"🏆 Excellent! You're a quiz master!\")\n",
        "    elif score >= len(questions) // 2:\n",
        "        print(\"👍 Good job! Keep practicing.\")\n",
        "    else:\n",
        "        print(\"📘 Don't worry. Review and try again!\")\n",
        "\n",
        "# Run the quiz\n",
        "run_quiz()\n"
      ],
      "metadata": {
        "colab": {
          "base_uri": "https://localhost:8080/"
        },
        "id": "DRAysjvVr4t1",
        "outputId": "fdf184af-e227-4d9a-c01c-3b14a1e7b4fd"
      },
      "execution_count": null,
      "outputs": [
        {
          "output_type": "stream",
          "name": "stdout",
          "text": [
            "👋 Hello! I'm QuizBot.\n",
            "What's your name? jeevan\n",
            "\n",
            "Nice to meet you, jeevan! Let's start the quiz. 🚀\n",
            "\n",
            "🧠 What is the capital of France?\n",
            "A: Paris\n",
            "B: Berlin\n",
            "C: Madrid\n",
            "D: Rome\n",
            "Your answer (A/B/C/D): A\n",
            "✅ Correct!\n",
            "\n",
            "🧠 Which language is used to write AI models with Hugging Face Transformers?\n",
            "A: Java\n",
            "B: Python\n",
            "C: C++\n",
            "D: JavaScript\n",
            "Your answer (A/B/C/D): B\n",
            "✅ Correct!\n",
            "\n",
            "🧠 What does CPU stand for?\n",
            "A: Central Process Unit\n",
            "B: Central Processing Unit\n",
            "C: Control Processing Unit\n",
            "D: Computer Primary Unit\n",
            "Your answer (A/B/C/D): B\n",
            "✅ Correct!\n",
            "\n",
            "🎉 Quiz Finished, jeevan!\n",
            "Your Score: 3 / 3\n",
            "🏆 Excellent! You're a quiz master!\n"
          ]
        }
      ]
    }
  ]
}